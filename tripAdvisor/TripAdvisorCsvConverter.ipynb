{
 "cells": [
  {
   "cell_type": "code",
   "execution_count": 1,
   "metadata": {
    "collapsed": false
   },
   "outputs": [],
   "source": [
    "\n",
    "import json\n",
    "import HTMLParser\n",
    "import unicodedata\n",
    "\n",
    "\n",
    "def is_ascii(s):\n",
    "\treturn all(ord(c) < 128 for c in s)\n",
    "\n",
    "def clean_parsed_string(string):\n",
    "\tif len(string) > 0:\n",
    "\t\tascii_string = string\n",
    "\t\tif is_ascii(ascii_string) == False:\n",
    "\t\t\tascii_string = unicodedata.normalize('NFKD', ascii_string).encode('ascii', 'ignore')\n",
    "\t\treturn str(ascii_string)\n",
    "\telse:\n",
    "\t\treturn None\n",
    "\n",
    "def isNull(s):\n",
    "    if s is None:\n",
    "        return 'NULL'\n",
    "    return s\n",
    "\n"
   ]
  },
  {
   "cell_type": "code",
   "execution_count": 7,
   "metadata": {
    "collapsed": false,
    "scrolled": true
   },
   "outputs": [
    {
     "ename": "KeyError",
     "evalue": "'tags'",
     "output_type": "error",
     "traceback": [
      "\u001b[1;31m---------------------------------------------------------------------------\u001b[0m",
      "\u001b[1;31mKeyError\u001b[0m                                  Traceback (most recent call last)",
      "\u001b[1;32m<ipython-input-7-2fdff6539008>\u001b[0m in \u001b[0;36m<module>\u001b[1;34m()\u001b[0m\n\u001b[0;32m      6\u001b[0m \u001b[1;32mfor\u001b[0m \u001b[0mobj\u001b[0m \u001b[1;32min\u001b[0m \u001b[0mobjects\u001b[0m\u001b[1;33m:\u001b[0m\u001b[1;33m\u001b[0m\u001b[0m\n\u001b[0;32m      7\u001b[0m     \u001b[0ms\u001b[0m \u001b[1;33m=\u001b[0m \u001b[1;34m''\u001b[0m\u001b[1;33m\u001b[0m\u001b[0m\n\u001b[1;32m----> 8\u001b[1;33m     \u001b[0ms\u001b[0m \u001b[1;33m+=\u001b[0m \u001b[0mobj\u001b[0m\u001b[1;33m[\u001b[0m\u001b[1;34m'name'\u001b[0m\u001b[1;33m]\u001b[0m  \u001b[1;33m+\u001b[0m \u001b[0mseperator\u001b[0m \u001b[1;33m+\u001b[0m \u001b[0mobj\u001b[0m\u001b[1;33m[\u001b[0m\u001b[1;34m'tags'\u001b[0m\u001b[1;33m]\u001b[0m\u001b[1;33m+\u001b[0m \u001b[0mseperator\u001b[0m \u001b[1;33m+\u001b[0m \u001b[0mobj\u001b[0m\u001b[1;33m[\u001b[0m\u001b[1;34m'avg_stars'\u001b[0m\u001b[1;33m]\u001b[0m \u001b[1;33m+\u001b[0m \u001b[0mseperator\u001b[0m\u001b[1;33m\u001b[0m\u001b[0m\n\u001b[0m\u001b[0;32m      9\u001b[0m     \u001b[0mreviews\u001b[0m \u001b[1;33m=\u001b[0m \u001b[0mobj\u001b[0m\u001b[1;33m[\u001b[0m\u001b[1;34m'reviews'\u001b[0m\u001b[1;33m]\u001b[0m\u001b[1;33m\u001b[0m\u001b[0m\n\u001b[0;32m     10\u001b[0m     \u001b[1;32mfor\u001b[0m \u001b[0mreview\u001b[0m \u001b[1;32min\u001b[0m \u001b[0mreviews\u001b[0m\u001b[1;33m:\u001b[0m\u001b[1;33m\u001b[0m\u001b[0m\n",
      "\u001b[1;31mKeyError\u001b[0m: 'tags'"
     ]
    }
   ],
   "source": [
    "objects = json.load(open('/home/user/anaconda/worspace/tripadvisor-scraper/tripadvisor-scraper/output/gainesville/restaurants.json'))\n",
    "seperator = '|'\n",
    "f = open('/home/user/anaconda/worspace/tripadvisor-scraper/tripadvisor-scraper/output/gainesville/restaurants.csv','w', 1)\n",
    "header = 'name|tags|avg_stars|review_date|review_description|review_title|review_stars\\n'\n",
    "f.write(header)\n",
    "for obj in objects:\n",
    "    s = ''\n",
    "    s += obj['name']  + seperator + obj['tags']+ seperator + obj['avg_stars'] + seperator\n",
    "    reviews = obj['reviews']\n",
    "    for review in reviews:\n",
    "       t = s + review['date'] + seperator + review['description'][0][1:-1] + seperator + review['title'] + seperator + review['stars']\n",
    "       t += '\\n'\n",
    "       r = clean_parsed_string(t)\n",
    "       f.write(r)\n",
    "\n",
    "f.close()"
   ]
  },
  {
   "cell_type": "code",
   "execution_count": 11,
   "metadata": {
    "collapsed": false
   },
   "outputs": [],
   "source": [
    "#restaurants\n",
    "\n",
    "objects = json.load(open('/home/user/anaconda/worspace/tripadvisor-scraper/tripadvisor-scraper/output/jacksonville/restaurants_all.json'))\n",
    "seperator = '|'\n",
    "f = open('/home/user/anaconda/worspace/tripadvisor-scraper/tripadvisor-scraper/output/jacksonville/restaurants_all.csv','w', 1)\n",
    "header = 'name|avg_stars|review_date|review_description|review_title|review_stars\\n'\n",
    "f.write(header)\n",
    "for obj in objects:\n",
    "    s = ''\n",
    "    s += obj['name']  + seperator + isNull(obj['avg_stars']) + seperator\n",
    "    reviews = obj['reviews']\n",
    "    for review in reviews:\n",
    "       t = s + review['date'] + seperator + review['description'][0][1:-1] + seperator + review['title'] + seperator + review['stars']\n",
    "       t += '\\n'\n",
    "       r = clean_parsed_string(t)\n",
    "       f.write(r)\n",
    "\n",
    "f.close()"
   ]
  },
  {
   "cell_type": "code",
   "execution_count": null,
   "metadata": {
    "collapsed": true
   },
   "outputs": [],
   "source": []
  },
  {
   "cell_type": "code",
   "execution_count": null,
   "metadata": {
    "collapsed": true
   },
   "outputs": [],
   "source": []
  }
 ],
 "metadata": {
  "kernelspec": {
   "display_name": "Python 2",
   "language": "python",
   "name": "python2"
  },
  "language_info": {
   "codemirror_mode": {
    "name": "ipython",
    "version": 2
   },
   "file_extension": ".py",
   "mimetype": "text/x-python",
   "name": "python",
   "nbconvert_exporter": "python",
   "pygments_lexer": "ipython2",
   "version": "2.7.10"
  }
 },
 "nbformat": 4,
 "nbformat_minor": 0
}
